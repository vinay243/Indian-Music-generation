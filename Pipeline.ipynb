{
  "cells": [
    {
      "cell_type": "markdown",
      "metadata": {
        "id": "5q7dUMWTHb5z"
      },
      "source": [
        "# All Installations"
      ]
    },
    {
      "cell_type": "code",
      "execution_count": null,
      "metadata": {
        "id": "nGa048kWa8_D"
      },
      "outputs": [],
      "source": [
        "# All Installations.\n",
        "!pip install zipfile36\n",
        "!pip install pydub\n",
        "!pip install basic-pitch\n",
        "!pip install note_seq\n",
        "!pip install music_pb2"
      ]
    },
    {
      "cell_type": "markdown",
      "metadata": {
        "id": "rDUV-fD1KpY8"
      },
      "source": [
        "# All Imports"
      ]
    },
    {
      "cell_type": "code",
      "execution_count": null,
      "metadata": {
        "id": "WNEnPewxa7eZ"
      },
      "outputs": [],
      "source": [
        "# All Imports\n",
        "import os\n",
        "from pydub import AudioSegment\n",
        "from basic_pitch.inference import predict_and_save\n",
        "import pretty_midi\n",
        "import librosa\n",
        "import numpy as np\n",
        "import note_seq\n",
        "from note_seq.protobuf import music_pb2\n",
        "from google.colab import files\n",
        "import os\n",
        "from contextlib import redirect_stdout"
      ]
    },
    {
      "cell_type": "markdown",
      "metadata": {
        "id": "l0v7U73MKuEB"
      },
      "source": [
        "#Audio Slicing Function"
      ]
    },
    {
      "cell_type": "code",
      "execution_count": null,
      "metadata": {
        "id": "YM3rvWhRfL-h"
      },
      "outputs": [],
      "source": [
        "# @title\n",
        "def clip_audio_into_parts(input_folder, output_folder, clip_duration_ms=30000):\n",
        "    # Create the output folder if it doesn't exist\n",
        "    if not os.path.exists(output_folder):\n",
        "        os.makedirs(output_folder)\n",
        "\n",
        "    # Process each audio file in the input folder\n",
        "    for file_name in os.listdir(input_folder):\n",
        "        if file_name.endswith(('.mp3', '.wav', '.ogg', '.flac')):\n",
        "            file_path = os.path.join(input_folder, file_name)\n",
        "\n",
        "            audio = AudioSegment.from_file(file_path)\n",
        "\n",
        "            # Calculate the number of parts based on the clip duration\n",
        "            num_parts = len(audio) // clip_duration_ms\n",
        "            remaining_duration = len(audio) % clip_duration_ms\n",
        "            if remaining_duration > 0:\n",
        "                num_parts += 1\n",
        "\n",
        "            # Clip the audio and save the parts\n",
        "            for i in range(num_parts):\n",
        "                start_time = i * clip_duration_ms\n",
        "                end_time = start_time + clip_duration_ms\n",
        "\n",
        "                # Clip the audio\n",
        "                audio_part = audio[start_time:end_time]\n",
        "\n",
        "                # Save the audio part\n",
        "                output_file = os.path.join(output_folder, f\"{file_name}_part{i+1}.mp3\")\n",
        "                audio_part.export(output_file, format=\"mp3\")"
      ]
    },
    {
      "cell_type": "markdown",
      "metadata": {
        "id": "wkBhggG6K3XB"
      },
      "source": [
        "#WAV to MIDI"
      ]
    },
    {
      "cell_type": "code",
      "execution_count": null,
      "metadata": {
        "id": "RxWlm31jhLvC"
      },
      "outputs": [],
      "source": [
        "# @title\n",
        "# def get_file_paths(directory_path):\n",
        "#     file_paths = []\n",
        "#     for root, dirs, files in os.walk(directory_path):\n",
        "#         for file in files:\n",
        "#             file_path = os.path.join(root, file)\n",
        "#             file_paths.append(file_path)\n",
        "#     return file_paths\n",
        "\n",
        "# def wav_to_midi_conversion(file_paths, output_directory):\n",
        "#   #     <input-audio-path-list>,\n",
        "#   #     <output-directory>,\n",
        "#   #     <save-midi>,\n",
        "#   #     <sonify-midi>,\n",
        "#   #     <save-model-outputs>,\n",
        "#   #     <save-notes>,\n",
        "#   predict_and_save(\n",
        "#       file_paths,\n",
        "#       output_directory,\n",
        "#       \"false\",\n",
        "#       \"true\",\n",
        "#       \"true\",\n",
        "#       \"true\",\n",
        "#   )\n",
        "\n",
        "# from predict_module import predict_and_save  # Make sure to import the appropriate module/function\n",
        "\n",
        "def get_file_paths(directory_path):\n",
        "    file_paths = []\n",
        "    for root, dirs, files in os.walk(directory_path):\n",
        "        for file in files:\n",
        "            file_path = os.path.join(root, file)\n",
        "            file_paths.append(file_path)\n",
        "    return file_paths\n",
        "\n",
        "def wav_to_midi_conversion(file_paths, output_directory):\n",
        "    # Disable unnecessary print statements during execution\n",
        "    with open(os.devnull, 'w') as null_file, redirect_stdout(null_file):\n",
        "        predict_and_save(\n",
        "            file_paths,\n",
        "            output_directory,\n",
        "            \"false\",\n",
        "            \"true\",\n",
        "            \"true\",\n",
        "            \"true\",\n",
        "        )"
      ]
    },
    {
      "cell_type": "markdown",
      "metadata": {
        "id": "mYrpHOki0xPK"
      },
      "source": [
        "#Dataset Generation (Note Sequences)"
      ]
    },
    {
      "cell_type": "code",
      "execution_count": null,
      "metadata": {
        "id": "tUfrE-X6mtJ8"
      },
      "outputs": [],
      "source": [
        "def midi_to_note_sequence(path):\n",
        "  midi_sequence = note_seq.midi_file_to_note_sequence(path)\n",
        "  note_sequence = music_pb2.NoteSequence()\n",
        "  note_sequence.notes.extend(midi_sequence.notes)\n",
        "  note_sequence.total_time = midi_sequence.total_time\n",
        "  note_sequence.tempos.extend(midi_sequence.tempos)\n",
        "  note_sequence.key_signatures.extend(midi_sequence.key_signatures)\n",
        "  note_sequence.time_signatures.extend(midi_sequence.time_signatures)\n",
        "  return note_sequence\n",
        "\n",
        "def note_sequence_to_note_list(note_sequence):\n",
        "  note_list = []\n",
        "  for note in note_sequence.notes:\n",
        "      note_dict = {\n",
        "          'pitch': note.pitch,\n",
        "          'velocity': note.velocity,\n",
        "          'start_time': note.start_time,\n",
        "          'end_time': note.end_time\n",
        "      }\n",
        "      note_list.append(note_dict)\n",
        "  return note_list\n",
        "\n",
        "def convert_note_list_to_string(note_list):\n",
        "    result = \"PIECE_START TRACK_START INST=0 DENSITY=0 BAR_START \"\n",
        "\n",
        "    for note in note_list:\n",
        "        pitch = note['pitch']\n",
        "        if(int((note['end_time'] - note['start_time'])*4) != 0):\n",
        "          result += f\"NOTE_ON={pitch} TIME_DELTA={int((note['end_time'] - note['start_time'])*4)} NOTE_OFF={pitch} \"\n",
        "        if(note['end_time'] > 12):\n",
        "            break;\n",
        "\n",
        "    result += \"BAR_END TRACK_END\"\n",
        "\n",
        "    return result\n",
        "\n",
        "def get_initial_sequence_from_midi(midi_path):\n",
        "  note_sequence = midi_to_note_sequence(midi_path)\n",
        "  note_list = note_sequence_to_note_list(note_sequence)\n",
        "  initial_sequence = convert_note_list_to_string(note_list)\n",
        "  return initial_sequence"
      ]
    },
    {
      "cell_type": "code",
      "execution_count": null,
      "metadata": {
        "id": "SaRjMa2RnLsR"
      },
      "outputs": [],
      "source": [
        "def get_dataset(library_path):\n",
        "  dataset = []\n",
        "  # Iterate over each file in the library directory\n",
        "  for root, dirs, files in os.walk(library_path):\n",
        "      for file in files:\n",
        "          # Append the file name to the list\n",
        "          if(file[-3:] == 'mid' or file[-4:] == 'midi'):\n",
        "            path = library_path+ '/' + file\n",
        "            string = get_initial_sequence_from_midi(path)\n",
        "            dataset.append(string)\n",
        "  return dataset"
      ]
    },
    {
      "cell_type": "markdown",
      "metadata": {
        "id": "Xkw3TowZ06pn"
      },
      "source": [
        "#Download Dataset"
      ]
    },
    {
      "cell_type": "code",
      "execution_count": null,
      "metadata": {
        "id": "189h-vT4Dp7C"
      },
      "outputs": [],
      "source": [
        "def downloadDataset():\n",
        "  # Provide the path to the file you want to download\n",
        "  file_path = '/content/DATASET.txt'\n",
        "\n",
        "  # Use the files.download() function to trigger the download\n",
        "  files.download(file_path)\n",
        "\n",
        "\n"
      ]
    },
    {
      "cell_type": "code",
      "execution_count": null,
      "metadata": {
        "id": "OZ59UFWWopeY"
      },
      "outputs": [],
      "source": [
        "  library_path = \"/content/basic_pitch_output\"\n",
        "  dataset = get_dataset(library_path)\n",
        "  with open('DATASET.txt', 'w') as file:\n",
        "    # Iterate over each element in the list\n",
        "    for element in dataset:\n",
        "        # Write the element to a new line in the file\n",
        "        file.write(element + '\\n')\n",
        "        file.write('\\n')"
      ]
    },
    {
      "cell_type": "markdown",
      "metadata": {
        "id": "5CgQZ3BXBuRS"
      },
      "source": [
        "#PIPELINE"
      ]
    },
    {
      "cell_type": "code",
      "execution_count": null,
      "metadata": {
        "colab": {
          "base_uri": "https://localhost:8080/",
          "height": 233
        },
        "id": "gA7QjaUwavxh",
        "outputId": "3862ce95-d540-4a1f-b4e9-df1b0a9b6381"
      },
      "outputs": [
        {
          "output_type": "display_data",
          "data": {
            "text/plain": [
              "<IPython.core.display.HTML object>"
            ],
            "text/html": [
              "\n",
              "     <input type=\"file\" id=\"files-69f15268-a4da-4dd5-b6e6-9270024909d9\" name=\"files[]\" multiple disabled\n",
              "        style=\"border:none\" />\n",
              "     <output id=\"result-69f15268-a4da-4dd5-b6e6-9270024909d9\">\n",
              "      Upload widget is only available when the cell has been executed in the\n",
              "      current browser session. Please rerun this cell to enable.\n",
              "      </output>\n",
              "      <script>// Copyright 2017 Google LLC\n",
              "//\n",
              "// Licensed under the Apache License, Version 2.0 (the \"License\");\n",
              "// you may not use this file except in compliance with the License.\n",
              "// You may obtain a copy of the License at\n",
              "//\n",
              "//      http://www.apache.org/licenses/LICENSE-2.0\n",
              "//\n",
              "// Unless required by applicable law or agreed to in writing, software\n",
              "// distributed under the License is distributed on an \"AS IS\" BASIS,\n",
              "// WITHOUT WARRANTIES OR CONDITIONS OF ANY KIND, either express or implied.\n",
              "// See the License for the specific language governing permissions and\n",
              "// limitations under the License.\n",
              "\n",
              "/**\n",
              " * @fileoverview Helpers for google.colab Python module.\n",
              " */\n",
              "(function(scope) {\n",
              "function span(text, styleAttributes = {}) {\n",
              "  const element = document.createElement('span');\n",
              "  element.textContent = text;\n",
              "  for (const key of Object.keys(styleAttributes)) {\n",
              "    element.style[key] = styleAttributes[key];\n",
              "  }\n",
              "  return element;\n",
              "}\n",
              "\n",
              "// Max number of bytes which will be uploaded at a time.\n",
              "const MAX_PAYLOAD_SIZE = 100 * 1024;\n",
              "\n",
              "function _uploadFiles(inputId, outputId) {\n",
              "  const steps = uploadFilesStep(inputId, outputId);\n",
              "  const outputElement = document.getElementById(outputId);\n",
              "  // Cache steps on the outputElement to make it available for the next call\n",
              "  // to uploadFilesContinue from Python.\n",
              "  outputElement.steps = steps;\n",
              "\n",
              "  return _uploadFilesContinue(outputId);\n",
              "}\n",
              "\n",
              "// This is roughly an async generator (not supported in the browser yet),\n",
              "// where there are multiple asynchronous steps and the Python side is going\n",
              "// to poll for completion of each step.\n",
              "// This uses a Promise to block the python side on completion of each step,\n",
              "// then passes the result of the previous step as the input to the next step.\n",
              "function _uploadFilesContinue(outputId) {\n",
              "  const outputElement = document.getElementById(outputId);\n",
              "  const steps = outputElement.steps;\n",
              "\n",
              "  const next = steps.next(outputElement.lastPromiseValue);\n",
              "  return Promise.resolve(next.value.promise).then((value) => {\n",
              "    // Cache the last promise value to make it available to the next\n",
              "    // step of the generator.\n",
              "    outputElement.lastPromiseValue = value;\n",
              "    return next.value.response;\n",
              "  });\n",
              "}\n",
              "\n",
              "/**\n",
              " * Generator function which is called between each async step of the upload\n",
              " * process.\n",
              " * @param {string} inputId Element ID of the input file picker element.\n",
              " * @param {string} outputId Element ID of the output display.\n",
              " * @return {!Iterable<!Object>} Iterable of next steps.\n",
              " */\n",
              "function* uploadFilesStep(inputId, outputId) {\n",
              "  const inputElement = document.getElementById(inputId);\n",
              "  inputElement.disabled = false;\n",
              "\n",
              "  const outputElement = document.getElementById(outputId);\n",
              "  outputElement.innerHTML = '';\n",
              "\n",
              "  const pickedPromise = new Promise((resolve) => {\n",
              "    inputElement.addEventListener('change', (e) => {\n",
              "      resolve(e.target.files);\n",
              "    });\n",
              "  });\n",
              "\n",
              "  const cancel = document.createElement('button');\n",
              "  inputElement.parentElement.appendChild(cancel);\n",
              "  cancel.textContent = 'Cancel upload';\n",
              "  const cancelPromise = new Promise((resolve) => {\n",
              "    cancel.onclick = () => {\n",
              "      resolve(null);\n",
              "    };\n",
              "  });\n",
              "\n",
              "  // Wait for the user to pick the files.\n",
              "  const files = yield {\n",
              "    promise: Promise.race([pickedPromise, cancelPromise]),\n",
              "    response: {\n",
              "      action: 'starting',\n",
              "    }\n",
              "  };\n",
              "\n",
              "  cancel.remove();\n",
              "\n",
              "  // Disable the input element since further picks are not allowed.\n",
              "  inputElement.disabled = true;\n",
              "\n",
              "  if (!files) {\n",
              "    return {\n",
              "      response: {\n",
              "        action: 'complete',\n",
              "      }\n",
              "    };\n",
              "  }\n",
              "\n",
              "  for (const file of files) {\n",
              "    const li = document.createElement('li');\n",
              "    li.append(span(file.name, {fontWeight: 'bold'}));\n",
              "    li.append(span(\n",
              "        `(${file.type || 'n/a'}) - ${file.size} bytes, ` +\n",
              "        `last modified: ${\n",
              "            file.lastModifiedDate ? file.lastModifiedDate.toLocaleDateString() :\n",
              "                                    'n/a'} - `));\n",
              "    const percent = span('0% done');\n",
              "    li.appendChild(percent);\n",
              "\n",
              "    outputElement.appendChild(li);\n",
              "\n",
              "    const fileDataPromise = new Promise((resolve) => {\n",
              "      const reader = new FileReader();\n",
              "      reader.onload = (e) => {\n",
              "        resolve(e.target.result);\n",
              "      };\n",
              "      reader.readAsArrayBuffer(file);\n",
              "    });\n",
              "    // Wait for the data to be ready.\n",
              "    let fileData = yield {\n",
              "      promise: fileDataPromise,\n",
              "      response: {\n",
              "        action: 'continue',\n",
              "      }\n",
              "    };\n",
              "\n",
              "    // Use a chunked sending to avoid message size limits. See b/62115660.\n",
              "    let position = 0;\n",
              "    do {\n",
              "      const length = Math.min(fileData.byteLength - position, MAX_PAYLOAD_SIZE);\n",
              "      const chunk = new Uint8Array(fileData, position, length);\n",
              "      position += length;\n",
              "\n",
              "      const base64 = btoa(String.fromCharCode.apply(null, chunk));\n",
              "      yield {\n",
              "        response: {\n",
              "          action: 'append',\n",
              "          file: file.name,\n",
              "          data: base64,\n",
              "        },\n",
              "      };\n",
              "\n",
              "      let percentDone = fileData.byteLength === 0 ?\n",
              "          100 :\n",
              "          Math.round((position / fileData.byteLength) * 100);\n",
              "      percent.textContent = `${percentDone}% done`;\n",
              "\n",
              "    } while (position < fileData.byteLength);\n",
              "  }\n",
              "\n",
              "  // All done.\n",
              "  yield {\n",
              "    response: {\n",
              "      action: 'complete',\n",
              "    }\n",
              "  };\n",
              "}\n",
              "\n",
              "scope.google = scope.google || {};\n",
              "scope.google.colab = scope.google.colab || {};\n",
              "scope.google.colab._files = {\n",
              "  _uploadFiles,\n",
              "  _uploadFilesContinue,\n",
              "};\n",
              "})(self);\n",
              "</script> "
            ]
          },
          "metadata": {}
        },
        {
          "name": "stdout",
          "output_type": "stream",
          "text": [
            "Saving data.zip to data.zip\n",
            "Directory uploaded and extracted successfully!\n",
            "Choose the operation you want to perform on the data : \n",
            "1. Audio Slicing\n",
            "2. Conversion from wav to midi\n",
            "3. Conversion from midi to text\n",
            "4. All in One\n",
            "3\n"
          ]
        },
        {
          "output_type": "display_data",
          "data": {
            "text/plain": [
              "<IPython.core.display.Javascript object>"
            ],
            "application/javascript": [
              "\n",
              "    async function download(id, filename, size) {\n",
              "      if (!google.colab.kernel.accessAllowed) {\n",
              "        return;\n",
              "      }\n",
              "      const div = document.createElement('div');\n",
              "      const label = document.createElement('label');\n",
              "      label.textContent = `Downloading \"${filename}\": `;\n",
              "      div.appendChild(label);\n",
              "      const progress = document.createElement('progress');\n",
              "      progress.max = size;\n",
              "      div.appendChild(progress);\n",
              "      document.body.appendChild(div);\n",
              "\n",
              "      const buffers = [];\n",
              "      let downloaded = 0;\n",
              "\n",
              "      const channel = await google.colab.kernel.comms.open(id);\n",
              "      // Send a message to notify the kernel that we're ready.\n",
              "      channel.send({})\n",
              "\n",
              "      for await (const message of channel.messages) {\n",
              "        // Send a message to notify the kernel that we're ready.\n",
              "        channel.send({})\n",
              "        if (message.buffers) {\n",
              "          for (const buffer of message.buffers) {\n",
              "            buffers.push(buffer);\n",
              "            downloaded += buffer.byteLength;\n",
              "            progress.value = downloaded;\n",
              "          }\n",
              "        }\n",
              "      }\n",
              "      const blob = new Blob(buffers, {type: 'application/binary'});\n",
              "      const a = document.createElement('a');\n",
              "      a.href = window.URL.createObjectURL(blob);\n",
              "      a.download = filename;\n",
              "      div.appendChild(a);\n",
              "      a.click();\n",
              "      div.remove();\n",
              "    }\n",
              "  "
            ]
          },
          "metadata": {}
        },
        {
          "output_type": "display_data",
          "data": {
            "text/plain": [
              "<IPython.core.display.Javascript object>"
            ],
            "application/javascript": [
              "download(\"download_0d1cbdd6-05ee-488a-bcca-a66244ac10a0\", \"DATASET.txt\", 18076)"
            ]
          },
          "metadata": {}
        },
        {
          "output_type": "stream",
          "name": "stdout",
          "text": [
            "Datset Downloaded succesfully!!!\n"
          ]
        }
      ],
      "source": [
        "# PIPELINE CODE\n",
        "\n",
        "# first upload your directory. i.e. your database\n",
        "from google.colab import files\n",
        "import shutil\n",
        "\n",
        "# Upload the directory as a zip file\n",
        "uploaded = files.upload()\n",
        "\n",
        "# Extract the uploaded zip file\n",
        "for file_name in uploaded.keys():\n",
        "    if file_name.endswith('.zip'):\n",
        "        shutil.unpack_archive(file_name, '/content/uploaded_directory')\n",
        "        print('Directory uploaded and extracted successfully!')\n",
        "        break\n",
        "\n",
        "while(1):\n",
        "  print(\"Choose the operation you want to perform on the data : \" )\n",
        "  print(\"1. Audio Slicing\")\n",
        "  print(\"2. Conversion from wav to midi\")\n",
        "  print(\"3. Conversion from midi to text\")\n",
        "  print(\"4. All in One\")\n",
        "  choice = int(input())\n",
        "  if choice not in [1,2,3,4]:\n",
        "    print(\"Wrong choice\")\n",
        "  else:\n",
        "    break\n",
        "\n",
        "if(choice == 1):\n",
        "  input_folder = \"/content/uploaded_directory\"\n",
        "  output_directory = '/content/slicid_audio'\n",
        "  os.makedirs(output_directory, exist_ok=True)\n",
        "  clip_duration = int(input(\"Enter the cliping duration in s: \", ))\n",
        "  clip_audio_into_parts(input_folder, output_directory, clip_duration*1000)\n",
        "\n",
        "elif(choice == 2):\n",
        "  input_directory = \"/content/uploaded_directory\"\n",
        "\n",
        "  file_paths = get_file_paths(input_directory)\n",
        "  output_directory = '/content/basic_pitch_output'\n",
        "  os.makedirs(output_directory, exist_ok=True)\n",
        "  wav_to_midi_conversion(file_paths, output_directory)\n",
        "\n",
        "elif(choice == 3):\n",
        "  library_path = \"/content/uploaded_directory\"\n",
        "  dataset = get_dataset(library_path)\n",
        "  with open('DATASET.txt', 'w') as file:\n",
        "    # Iterate over each element in the list\n",
        "    for element in dataset:\n",
        "        # Write the element to a new line in the file\n",
        "        file.write(element + '\\n')\n",
        "        file.write('\\n')\n",
        "  downloadDataset()\n",
        "  print(\"Datset Downloaded succesfully!!!\")\n",
        "\n",
        "elif(choice == 4):\n",
        "  input_folder = \"/content/uploaded_directory\"\n",
        "  output_directory = '/content/slicid_audio'\n",
        "  os.makedirs(output_directory, exist_ok=True)\n",
        "  clip_duration = int(input(\"Enter the cliping duration in s: \", ))\n",
        "  clip_audio_into_parts(input_folder, output_directory, clip_duration*1000)\n",
        "\n",
        "  input_directory = output_directory\n",
        "\n",
        "  file_paths = get_file_paths(input_directory)\n",
        "  output_directory = '/content/basic_pitch_output'\n",
        "  os.makedirs(output_directory, exist_ok=True)\n",
        "  wav_to_midi_conversion(file_paths, output_directory)\n",
        "\n",
        "  library_path = output_directory\n",
        "  dataset = get_dataset(library_path)\n",
        "  with open('DATASET.txt', 'w') as file:\n",
        "    # Iterate over each element in the list\n",
        "    for element in dataset:\n",
        "        # Write the element to a new line in the file\n",
        "        file.write(element + '\\n')\n",
        "        file.write('\\n')\n",
        "  downloadDataset()\n",
        "  print(\"Datset Downloaded succesfully!!!\")\n"
      ]
    },
    {
      "cell_type": "code",
      "execution_count": null,
      "metadata": {
        "id": "jqGfnNvVDKfi"
      },
      "outputs": [],
      "source": [
        "import os\n",
        "import shutil\n",
        "\n",
        "# Specify the directory path you want to delete\n",
        "directory_to_delete = '/content/uploaded_directory'\n",
        "\n",
        "# Use shutil.rmtree() to remove the directory and its contents\n",
        "shutil.rmtree(directory_to_delete)\n"
      ]
    },
    {
      "cell_type": "code",
      "source": [
        "library_path = \"/content/uploaded_directory\"\n",
        "dataset = get_dataset(library_path)\n",
        "with open('DATASET.txt', 'w') as file:\n",
        "  # Iterate over each element in the list\n",
        "  for element in dataset:\n",
        "      # Write the element to a new line in the file\n",
        "      file.write(element + '\\n')\n",
        "      file.write('\\n')\n",
        "downloadDataset()\n",
        "print(\"Datset Downloaded succesfully!!!\")"
      ],
      "metadata": {
        "colab": {
          "base_uri": "https://localhost:8080/",
          "height": 52
        },
        "id": "b4S5KABrT-c1",
        "outputId": "39b606ec-604a-42a5-df90-032cf554ee3d"
      },
      "execution_count": null,
      "outputs": [
        {
          "output_type": "display_data",
          "data": {
            "text/plain": [
              "<IPython.core.display.Javascript object>"
            ],
            "application/javascript": [
              "\n",
              "    async function download(id, filename, size) {\n",
              "      if (!google.colab.kernel.accessAllowed) {\n",
              "        return;\n",
              "      }\n",
              "      const div = document.createElement('div');\n",
              "      const label = document.createElement('label');\n",
              "      label.textContent = `Downloading \"${filename}\": `;\n",
              "      div.appendChild(label);\n",
              "      const progress = document.createElement('progress');\n",
              "      progress.max = size;\n",
              "      div.appendChild(progress);\n",
              "      document.body.appendChild(div);\n",
              "\n",
              "      const buffers = [];\n",
              "      let downloaded = 0;\n",
              "\n",
              "      const channel = await google.colab.kernel.comms.open(id);\n",
              "      // Send a message to notify the kernel that we're ready.\n",
              "      channel.send({})\n",
              "\n",
              "      for await (const message of channel.messages) {\n",
              "        // Send a message to notify the kernel that we're ready.\n",
              "        channel.send({})\n",
              "        if (message.buffers) {\n",
              "          for (const buffer of message.buffers) {\n",
              "            buffers.push(buffer);\n",
              "            downloaded += buffer.byteLength;\n",
              "            progress.value = downloaded;\n",
              "          }\n",
              "        }\n",
              "      }\n",
              "      const blob = new Blob(buffers, {type: 'application/binary'});\n",
              "      const a = document.createElement('a');\n",
              "      a.href = window.URL.createObjectURL(blob);\n",
              "      a.download = filename;\n",
              "      div.appendChild(a);\n",
              "      a.click();\n",
              "      div.remove();\n",
              "    }\n",
              "  "
            ]
          },
          "metadata": {}
        },
        {
          "output_type": "display_data",
          "data": {
            "text/plain": [
              "<IPython.core.display.Javascript object>"
            ],
            "application/javascript": [
              "download(\"download_6dfc2b0b-5268-48dc-9dd6-8f21bdfeb9ca\", \"DATASET.txt\", 208398)"
            ]
          },
          "metadata": {}
        },
        {
          "output_type": "stream",
          "name": "stdout",
          "text": [
            "Datset Downloaded succesfully!!!\n"
          ]
        }
      ]
    }
  ],
  "metadata": {
    "colab": {
      "provenance": [],
      "gpuType": "T4"
    },
    "kernelspec": {
      "display_name": "Python 3",
      "name": "python3"
    },
    "language_info": {
      "name": "python"
    },
    "accelerator": "GPU"
  },
  "nbformat": 4,
  "nbformat_minor": 0
}